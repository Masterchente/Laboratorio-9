{
 "cells": [
  {
   "cell_type": "markdown",
   "metadata": {},
   "source": [
    "# Parte II.\n",
    "\n",
    "Programar un perceptrón simple que sea capaz de clasificar una versión de la iris plant de dos clases. \n",
    "Validar con Hold-Out 70/30\n",
    "\n",
    "No se permitirá el uso de bibliotecas para el perceptrón, ni para la validación. "
   ]
  },
  {
   "cell_type": "code",
   "execution_count": 1,
   "metadata": {},
   "outputs": [
    {
     "name": "stdout",
     "output_type": "stream",
     "text": [
      "Pesos entrenados: [ 0.076 -0.127]\n",
      "Bias entrenado: -0.02\n",
      "Precisión en Hold-Out: 0.9666666666666667\n"
     ]
    }
   ],
   "source": [
    "import numpy as np\n",
    "from sklearn.datasets import load_iris\n",
    "\n",
    "# Función para entrenar un perceptrón\n",
    "def perceptron_train(X, y, epochs=100, lr=0.01):\n",
    "    \"\"\"\n",
    "    Entrenamiento del perceptrón\n",
    "    X: matriz de características\n",
    "    y: vector de etiquetas (-1 y 1)\n",
    "    epochs: número máximo de épocas\n",
    "    lr: tasa de aprendizaje\n",
    "    \"\"\"\n",
    "    # Inicialización de pesos y bias\n",
    "    weights = np.zeros(X.shape[1])\n",
    "    bias = 0\n",
    "    \n",
    "    for epoch in range(epochs):\n",
    "        for xi, yi in zip(X, y):\n",
    "            # Predicción\n",
    "            y_pred = np.dot(xi, weights) + bias\n",
    "            # Actualización si hay un error\n",
    "            if yi * y_pred <= 0:\n",
    "                weights += lr * yi * xi\n",
    "                bias += lr * yi\n",
    "    \n",
    "    return weights, bias\n",
    "\n",
    "# Función para realizar predicciones con el perceptrón\n",
    "def perceptron_predict(X, weights, bias):\n",
    "    \"\"\"\n",
    "    Predicción del perceptrón\n",
    "    X: matriz de características\n",
    "    weights: vector de pesos entrenados\n",
    "    bias: bias entrenado\n",
    "    \"\"\"\n",
    "    return np.sign(np.dot(X, weights) + bias)\n",
    "\n",
    "# Cargar el dataset Iris y filtrar clases Setosa y Virginica\n",
    "iris = load_iris()\n",
    "X = iris.data[iris.target != 1, :2]  # Usar solo Setosa y Virginica, primeras 2 características\n",
    "y = iris.target[iris.target != 1]\n",
    "\n",
    "# Convertir etiquetas a {-1, 1} para el Perceptrón\n",
    "y = np.where(y == 0, -1, 1)\n",
    "\n",
    "# Hold-Out (70/30)\n",
    "np.random.seed(42)\n",
    "indices = np.arange(X.shape[0])\n",
    "np.random.shuffle(indices)\n",
    "split_idx = int(0.7 * len(indices))\n",
    "\n",
    "X_train, X_test = X[indices[:split_idx]], X[indices[split_idx:]]\n",
    "y_train, y_test = y[indices[:split_idx]], y[indices[split_idx:]]\n",
    "\n",
    "# Entrenar el perceptrón\n",
    "weights, bias = perceptron_train(X_train, y_train)\n",
    "\n",
    "# Evaluar el perceptrón en el conjunto de prueba\n",
    "y_pred = perceptron_predict(X_test, weights, bias)\n",
    "accuracy = np.mean(y_pred == y_test)\n",
    "\n",
    "# Resultados\n",
    "print(\"Pesos entrenados:\", weights)\n",
    "print(\"Bias entrenado:\", bias)\n",
    "print(\"Precisión en Hold-Out:\", accuracy)\n"
   ]
  }
 ],
 "metadata": {
  "kernelspec": {
   "display_name": "Python 3",
   "language": "python",
   "name": "python3"
  },
  "language_info": {
   "codemirror_mode": {
    "name": "ipython",
    "version": 3
   },
   "file_extension": ".py",
   "mimetype": "text/x-python",
   "name": "python",
   "nbconvert_exporter": "python",
   "pygments_lexer": "ipython3",
   "version": "3.12.6"
  }
 },
 "nbformat": 4,
 "nbformat_minor": 2
}
